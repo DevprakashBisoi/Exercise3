{
 "cells": [
  {
   "cell_type": "code",
   "execution_count": 3,
   "metadata": {},
   "outputs": [
    {
     "name": "stdout",
     "output_type": "stream",
     "text": [
      "[('RAVI', 4), ('SANJEEV', 7), ('JOHN', 4)]\n"
     ]
    }
   ],
   "source": [
    "def capitalize_and_count(names):\n",
    "  output = [(name.upper(), len(name)) for name in names]\n",
    "  return output \n",
    "\n",
    "names=[\"Ravi\", \"Sanjeev\", \"John\"]\n",
    "print(capitalize_and_count(names))"
   ]
  },
  {
   "cell_type": "code",
   "execution_count": 4,
   "metadata": {},
   "outputs": [
    {
     "name": "stdout",
     "output_type": "stream",
     "text": [
      "[1984, 13, 1000]\n"
     ]
    }
   ],
   "source": [
    "import re\n",
    "\n",
    "def get_numbers(sentence):\n",
    "  numbers = re.findall(r'\\d+', sentence)\n",
    "  numbers = [int(n) for n in numbers]\n",
    "  return numbers\n",
    "\n",
    "print(get_numbers(\"In 1984 there were 13 instances of a protest with over 1000 people attending\"))"
   ]
  },
  {
   "cell_type": "code",
   "execution_count": null,
   "metadata": {},
   "outputs": [],
   "source": []
  }
 ],
 "metadata": {
  "kernelspec": {
   "display_name": "Python 3",
   "language": "python",
   "name": "python3"
  },
  "language_info": {
   "codemirror_mode": {
    "name": "ipython",
    "version": 3
   },
   "file_extension": ".py",
   "mimetype": "text/x-python",
   "name": "python",
   "nbconvert_exporter": "python",
   "pygments_lexer": "ipython3",
   "version": "3.7.6"
  }
 },
 "nbformat": 4,
 "nbformat_minor": 4
}
